{
 "cells": [
  {
   "cell_type": "code",
   "execution_count": 1,
   "metadata": {},
   "outputs": [
    {
     "name": "stdout",
     "output_type": "stream",
     "text": [
      "Total size of .bc files: 12666192272 bytes\n"
     ]
    }
   ],
   "source": [
    "import os\n",
    "\n",
    "def get_bc_files_size_in_gb(directory):\n",
    "    total_size_bytes = 0\n",
    "    for dirpath, _, filenames in os.walk(directory):\n",
    "        for filename in filenames:\n",
    "            if filename.endswith('.bc'):\n",
    "                file_path = os.path.join(dirpath, filename)\n",
    "                total_size_bytes += os.path.getsize(file_path)\n",
    "    total_size_gb = total_size_bytes / (1024 ** 3)\n",
    "    return total_size_gb\n",
    "\n",
    "\n",
    "if __name__ == \"__main__\":\n",
    "    directory = '/p/lustre3/shan4/database/corpus'  # 请将此路径替换为实际的文件夹路径\n",
    "    total_size_gb = get_bc_files_size_in_gb(directory)\n",
    "    print(f\"Total size of .bc files: {total_size_gb:.2f} GB\")"
   ]
  },
  {
   "cell_type": "markdown",
   "metadata": {},
   "source": [
    "Total size of .bc files: 12666192272 bytes\n",
    "Total size of .source files: 4.18 GB\n",
    "11.796310797333717\n",
    "Total size of .bc files: 5.81 GB\n",
    "Total size of .source files: 1.26 GB\n",
    "Total size of .preprocessed_source files: 62.51 GB\n",
    "\n",
    "## bc Total: 41.55GB\n",
    "lustre3: 11.80GB\n",
    "vast: 1.56GB\n",
    "lustre1: 22.38 GB\n",
    "usr: 5.81 GB\n",
    "\n",
    "## source\n",
    "lustre3: 4.18GB\n",
    "vast: 0.29GB\n",
    "lustre1: ?GB\n",
    "usr: 1.26GB\n",
    "\n",
    "## preprocessed_source 604.37 GB\n",
    "lustre3: 214.90 GB\n",
    "vast: 19.82GB\n",
    "lustre1: 307.14 GB\n",
    "usr: 62.51 GB\n"
   ]
  },
  {
   "cell_type": "code",
   "execution_count": 5,
   "metadata": {},
   "outputs": [
    {
     "data": {
      "text/plain": [
       "11.796310797333717"
      ]
     },
     "execution_count": 5,
     "metadata": {},
     "output_type": "execute_result"
    }
   ],
   "source": [
    "12666192272/ (1024 ** 3)"
   ]
  },
  {
   "cell_type": "code",
   "execution_count": 11,
   "metadata": {},
   "outputs": [],
   "source": [
    "def get_bc_files_size_in_gb(directory):\n",
    "    total_size_bytes = 0\n",
    "    for dirpath, _, filenames in os.walk(directory):\n",
    "        for filename in filenames:\n",
    "            if filename.endswith('.bc'):\n",
    "                file_path = os.path.join(dirpath, filename)\n",
    "                total_size_bytes += os.path.getsize(file_path)\n",
    "    total_size_gb = total_size_bytes / (1024 ** 3)\n",
    "    return total_size_gb\n",
    "\n",
    "def get_source_files_size_in_gb(directory):\n",
    "    total_size_bytes = 0\n",
    "    total_size_bytes1 = 0\n",
    "    for dirpath, _, filenames in os.walk(directory):\n",
    "        for filename in filenames:\n",
    "            if filename.endswith('.source'):\n",
    "                file_path = os.path.join(dirpath, filename)\n",
    "                total_size_bytes += os.path.getsize(file_path)\n",
    "            if filename.endswith('.preprocessed_source'):\n",
    "                file_path = os.path.join(dirpath, filename)\n",
    "                total_size_bytes1 += os.path.getsize(file_path)\n",
    "    total_size_gb = total_size_bytes / (1024 ** 3)\n",
    "    total_size_gb1 = total_size_bytes1 / (1024 ** 3)\n",
    "    return total_size_gb, total_size_gb1"
   ]
  },
  {
   "cell_type": "code",
   "execution_count": null,
   "metadata": {},
   "outputs": [],
   "source": [
    "directory = '/usr/workspace/shan4/tar-gz'  # 请将此路径替换为实际的文件夹路径\n",
    "total_size_gb = get_bc_files_size_in_gb(directory)\n",
    "print(f\"Total size of .source files: {total_size_gb:.2f} GB\")"
   ]
  },
  {
   "cell_type": "code",
   "execution_count": 10,
   "metadata": {},
   "outputs": [
    {
     "name": "stdout",
     "output_type": "stream",
     "text": [
      "Total size of .source files: 4.18 GB\n"
     ]
    }
   ],
   "source": [
    "directory = '/p/lustre3/shan4/database/corpus'  # 请将此路径替换为实际的文件夹路径\n",
    "total_size_gb = get_source_files_size_in_gb(directory)\n",
    "print(f\"Total size of .source files: {total_size_gb:.2f} GB\")"
   ]
  },
  {
   "cell_type": "code",
   "execution_count": 12,
   "metadata": {},
   "outputs": [],
   "source": [
    "def get_files_size_in_gb(directory):\n",
    "    total_size_bytes_bc = 0\n",
    "    total_size_bytes_source = 0\n",
    "    total_size_bytes_pre = 0\n",
    "    for dirpath, _, filenames in os.walk(directory):\n",
    "        for filename in filenames:\n",
    "            if filename.endswith('.bc'):\n",
    "                file_path = os.path.join(dirpath, filename)\n",
    "                total_size_bytes_bc += os.path.getsize(file_path)\n",
    "            if filename.endswith('.source'):\n",
    "                file_path = os.path.join(dirpath, filename)\n",
    "                total_size_bytes_source += os.path.getsize(file_path)\n",
    "            if filename.endswith('.preprocessed_source'):\n",
    "                file_path = os.path.join(dirpath, filename)\n",
    "                total_size_bytes_pre += os.path.getsize(file_path)\n",
    "    total_size_gb_bc = total_size_bytes_bc / (1024 ** 3)\n",
    "    total_size_gb_source = total_size_bytes_source / (1024 ** 3)\n",
    "    total_size_gb_pre = total_size_bytes_pre / (1024 ** 3)\n",
    "    return total_size_gb_bc, total_size_gb_source, total_size_gb_pre"
   ]
  },
  {
   "cell_type": "code",
   "execution_count": 16,
   "metadata": {},
   "outputs": [],
   "source": [
    "directory = '/p/lustre1/shan4/tmp-corpus' \n",
    "total_size_bytes_bc, total_size_bytes_source, total_size_bytes_pre = get_files_size_in_gb(directory)\n",
    "print(f\"Total size of .bc files: {total_size_bytes_bc:.2f} GB\")\n",
    "print(f\"Total size of .source files: {total_size_bytes_source:.2f} GB\")\n",
    "print(f\"Total size of .preprocessed_source files: {total_size_bytes_pre:.2f} GB\")"
   ]
  },
  {
   "cell_type": "code",
   "execution_count": null,
   "metadata": {},
   "outputs": [],
   "source": []
  },
  {
   "cell_type": "code",
   "execution_count": null,
   "metadata": {},
   "outputs": [],
   "source": []
  }
 ],
 "metadata": {
  "kernelspec": {
   "display_name": "Python 3",
   "language": "python",
   "name": "python3"
  },
  "language_info": {
   "codemirror_mode": {
    "name": "ipython",
    "version": 3
   },
   "file_extension": ".py",
   "mimetype": "text/x-python",
   "name": "python",
   "nbconvert_exporter": "python",
   "pygments_lexer": "ipython3",
   "version": "3.9.12"
  }
 },
 "nbformat": 4,
 "nbformat_minor": 2
}
