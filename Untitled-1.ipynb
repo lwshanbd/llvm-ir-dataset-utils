{
 "cells": [
  {
   "cell_type": "code",
   "execution_count": 7,
   "metadata": {},
   "outputs": [],
   "source": [
    "import os\n",
    "from pathlib import Path\n",
    "\n",
    "import os\n",
    "from pathlib import Path\n",
    "\n",
    "def get_total_size(folder_path, file_extension):\n",
    "    if not file_extension.startswith('.'):\n",
    "        file_extension = '.' + file_extension\n",
    "\n",
    "    try:\n",
    "        folder = Path(folder_path)\n",
    "        if not folder.is_dir():\n",
    "            return \"Error: Specified path is not a directory\"\n",
    "\n",
    "        total_size = 0\n",
    "        for file_path in folder.rglob(f'*{file_extension}'):\n",
    "            if file_path.is_file():\n",
    "                total_size += os.path.getsize(file_path)\n",
    "\n",
    "        units = ['B', 'KB', 'MB', 'GB', 'TB']\n",
    "        size = float(total_size)\n",
    "        unit_index = 0\n",
    "        while size >= 1024 and unit_index < len(units) - 1:\n",
    "            size /= 1024\n",
    "            unit_index += 1\n",
    "\n",
    "        return f\"{size:.2f} {units[unit_index]} ({total_size} bytes)\"\n",
    "\n",
    "    except Exception as e:\n",
    "        return f\"Error: {str(e)}\"\n",
    "\n",
    "# 使用示例\n",
    "folder_path = \"/p/lustre1/shan4/tmp-corpus\"  # 替换为你要搜索的文件夹路径\n",
    "file_extension = \".source\"  # 替换为你要查找的文件扩展名\n",
    "\n",
    "total_size = get_total_size(folder_path, file_extension)\n",
    "print(f\"Total size of {file_extension} files in {folder_path} and its subfolders: {total_size}\")"
   ]
  },
  {
   "cell_type": "code",
   "execution_count": 5,
   "metadata": {},
   "outputs": [
    {
     "name": "stdout",
     "output_type": "stream",
     "text": [
      "Total size of .preprocessed_source files in /p/lustre3/shan4/database/corpus and its subfolders: 214.90 GB (230748813866 bytes)\n"
     ]
    }
   ],
   "source": [
    "from pathlib import Path\n",
    "\n",
    "def get_total_size(folder_path, file_extension):\n",
    "    if not file_extension.startswith('.'):\n",
    "        file_extension = '.' + file_extension\n",
    "\n",
    "    try:\n",
    "        folder = Path(folder_path)\n",
    "        if not folder.is_dir():\n",
    "            return \"Error: Specified path is not a directory\"\n",
    "\n",
    "        total_size = 0\n",
    "        for file_path in folder.rglob(f'*{file_extension}'):\n",
    "            if file_path.is_file():\n",
    "                total_size += file_path.stat().st_size\n",
    "\n",
    "        units = ['B', 'KB', 'MB', 'GB', 'TB']\n",
    "        size = float(total_size)\n",
    "        unit_index = 0\n",
    "        while size >= 1024 and unit_index < len(units) - 1:\n",
    "            size /= 1024\n",
    "            unit_index += 1\n",
    "\n",
    "        return f\"{size:.2f} {units[unit_index]} ({total_size} bytes)\"\n",
    "\n",
    "    except Exception as e:\n",
    "        return f\"Error: {str(e)}\"\n",
    "total_size = get_total_size(folder_path, file_extension)\n",
    "print(f\"Total size of {file_extension} files in {folder_path} and its subfolders: {total_size}\")"
   ]
  }
 ],
 "metadata": {
  "kernelspec": {
   "display_name": "Python 3",
   "language": "python",
   "name": "python3"
  },
  "language_info": {
   "codemirror_mode": {
    "name": "ipython",
    "version": 3
   },
   "file_extension": ".py",
   "mimetype": "text/x-python",
   "name": "python",
   "nbconvert_exporter": "python",
   "pygments_lexer": "ipython3",
   "version": "3.9.12"
  }
 },
 "nbformat": 4,
 "nbformat_minor": 2
}
