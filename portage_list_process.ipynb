{
 "cells": [
  {
   "cell_type": "code",
   "execution_count": 1,
   "metadata": {},
   "outputs": [],
   "source": [
    "import os\n",
    "PATHs = ['/p/lustre3/shan4/database/corpus', '/p/vast1/shan4/tmp-corpus', '/p/lustre1/shan4/tmp-corpus', '/usr/workspace/shan4/tar-gz']\n",
    "both = []\n",
    "source_nobc = []\n",
    "bc_nosource = []\n",
    "neither = []\n",
    "directories_all = []\n",
    "def find_directories_with_bc():\n",
    "    directories_with_bc = []\n",
    "    for start_path in PATHs:\n",
    "        for subdir in next(os.walk(start_path))[1]:\n",
    "            directories_all.append(subdir)\n",
    "            full_subdir_path = os.path.join(start_path, subdir)\n",
    "            for dirpath, dirnames, filenames in os.walk(full_subdir_path):\n",
    "                for filename in filenames:\n",
    "                    if filename.endswith('.bc'):\n",
    "                        if subdir not in directories_with_bc:\n",
    "                            directories_with_bc.append(subdir)\n",
    "                        break\n",
    "                else:\n",
    "                    continue\n",
    "                break\n",
    "        \n",
    "\n",
    "    return directories_with_bc\n",
    "\n",
    "def find_directories_with_source():\n",
    "    directories_with_bc = []\n",
    "    for start_path in PATHs:\n",
    "        for subdir in next(os.walk(start_path))[1]:\n",
    "            directories_all.append(subdir)\n",
    "            full_subdir_path = os.path.join(start_path, subdir)\n",
    "            for dirpath, dirnames, filenames in os.walk(full_subdir_path):\n",
    "                for filename in filenames:\n",
    "                    if filename.endswith('.source'):\n",
    "                        if subdir not in directories_with_bc:\n",
    "                            directories_with_bc.append(subdir)\n",
    "                        break\n",
    "                else:\n",
    "                    continue\n",
    "                break\n",
    "        \n",
    "\n",
    "    return directories_with_bc"
   ]
  },
  {
   "cell_type": "code",
   "execution_count": 2,
   "metadata": {},
   "outputs": [],
   "source": [
    "start_path = '/p/lustre3/shan4/database/corpus'\n",
    "directories = find_directories_with_bc()\n",
    "directories1 = find_directories_with_source() "
   ]
  },
  {
   "cell_type": "code",
   "execution_count": 4,
   "metadata": {},
   "outputs": [
    {
     "data": {
      "text/plain": [
       "3236"
      ]
     },
     "execution_count": 4,
     "metadata": {},
     "output_type": "execute_result"
    }
   ],
   "source": [
    "for i in directories_all:\n",
    "    if (i not in directories1) and (i not in directories):\n",
    "        neither.append(i)\n",
    "    elif (i in directories1) and (i not in directories):\n",
    "        source_nobc.append(i)\n",
    "    elif (i not in directories1) and (i in directories):\n",
    "        bc_nosource.append(i)\n",
    "    else:\n",
    "        both.append(i)\n",
    "\n",
    "both = list(set(both))\n",
    "len(both)"
   ]
  },
  {
   "cell_type": "code",
   "execution_count": 65,
   "metadata": {},
   "outputs": [
    {
     "name": "stdout",
     "output_type": "stream",
     "text": [
      "Subfolder hello-2.11 not found in any parent folder.\n",
      "Subfolder hello not found in any parent folder.\n",
      "Subfolder x264 not found in any parent folder.\n"
     ]
    }
   ],
   "source": [
    "import os\n",
    "\n",
    "\n",
    "\n",
    "# Define list of subfolder names\n",
    "subfolder_names = neither\n",
    "\n",
    "# List to store contents\n",
    "content_list = []\n",
    "feedbacks = {}\n",
    "for subfolder in subfolder_names:\n",
    "    subfolder = subfolder.replace('/','_')\n",
    "    found = False\n",
    "    for mother_folder in PATHs:\n",
    "        subfolder_path = os.path.join(mother_folder, subfolder)\n",
    "        a_txt_path = os.path.join(subfolder_path, 'portage_build.log')\n",
    "        \n",
    "        if os.path.exists(a_txt_path):\n",
    "            with open(a_txt_path, 'r') as file:\n",
    "                content = file.read()\n",
    "                content_list.append(content)\n",
    "                feedbacks[subfolder] = content\n",
    "            found = True\n",
    "            break  # Stop searching once the subfolder is found and read\n",
    "    \n",
    "    if not found:\n",
    "        print(f\"Subfolder {subfolder} not found in any parent folder.\")"
   ]
  },
  {
   "cell_type": "code",
   "execution_count": 67,
   "metadata": {},
   "outputs": [
    {
     "data": {
      "text/plain": [
       "5237"
      ]
     },
     "execution_count": 67,
     "metadata": {},
     "output_type": "execute_result"
    }
   ],
   "source": [
    "len(feedbacks)"
   ]
  },
  {
   "cell_type": "code",
   "execution_count": 66,
   "metadata": {},
   "outputs": [],
   "source": [
    "import json\n",
    "with open('../ir-llvm/neither-data.json', 'w') as json_file:\n",
    "    json.dump(feedbacks, json_file, indent=4)"
   ]
  },
  {
   "cell_type": "code",
   "execution_count": 21,
   "metadata": {},
   "outputs": [],
   "source": [
    "installed = []\n",
    "notinstalled = []\n",
    "todo = []\n",
    "with open('/p/lustre3/shan4/ir-llvm/corpus_descriptions_test/pkg.list','r') as pkglist:\n",
    "    for pkg in pkglist:\n",
    "        if pkg.replace('/','_')[:-1] in both:\n",
    "            installed.append(pkg.replace('/','_')[:-1])\n",
    "        elif pkg.replace('/','_')[:-1] in bc_nosource or pkg.replace('/','_')[:-1] in source_nobc:\n",
    "            installed.append(pkg.replace('/','_')[:-1])\n",
    "        elif pkg.replace('/','_')[:-1] in neither:\n",
    "            # continue\n",
    "            todo.append(pkg[:-1].replace('/','_')[:-1])\n",
    "        else:\n",
    "            #continue\n",
    "            notinstalled.append(pkg[:-1].replace('/','_')[:-1])"
   ]
  },
  {
   "cell_type": "code",
   "execution_count": 22,
   "metadata": {},
   "outputs": [],
   "source": [
    "import json\n",
    "def analyse_neither():\n",
    "    failed = []\n",
    "    successed = []\n",
    "    with open('../ir-llvm/portage-lists/neither.json') as neither_pkgs_files:\n",
    "        neither_pkgs = json.load(neither_pkgs_files) \n",
    "    for pkg in neither_pkgs:\n",
    "        if neither_pkgs[pkg] == 'N':\n",
    "            failed.append(pkg)\n",
    "        if neither_pkgs[pkg] == 'Y':\n",
    "            successed.append(pkg)\n",
    "    \n",
    "    return failed, successed\n",
    "failed, successed = analyse_neither()"
   ]
  },
  {
   "cell_type": "code",
   "execution_count": 39,
   "metadata": {},
   "outputs": [],
   "source": [
    "for pkg in installed:\n",
    "    if pkg not in bc_nosource and pkg not in source_nobc and pkg not in both:\n",
    "        print(pkg)"
   ]
  },
  {
   "cell_type": "code",
   "execution_count": 41,
   "metadata": {},
   "outputs": [],
   "source": [
    "finished = []\n",
    "finished.extend(both)\n",
    "finished.extend(bc_nosource)\n",
    "finished.extend(source_nobc)\n",
    "finished.extend(successed)\n",
    "finished = list(set(finished))"
   ]
  },
  {
   "cell_type": "code",
   "execution_count": 48,
   "metadata": {},
   "outputs": [],
   "source": [
    "with open('./portage-lists/finished.list', 'w') as todolist:\n",
    "    for i in finished:\n",
    "        todolist.write(i+'\\n')"
   ]
  }
 ],
 "metadata": {
  "kernelspec": {
   "display_name": "Python 3",
   "language": "python",
   "name": "python3"
  },
  "language_info": {
   "codemirror_mode": {
    "name": "ipython",
    "version": 3
   },
   "file_extension": ".py",
   "mimetype": "text/x-python",
   "name": "python",
   "nbconvert_exporter": "python",
   "pygments_lexer": "ipython3",
   "version": "3.9.12"
  }
 },
 "nbformat": 4,
 "nbformat_minor": 2
}
